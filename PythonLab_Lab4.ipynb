{
 "cells": [
  {
   "cell_type": "code",
   "execution_count": 2,
   "metadata": {},
   "outputs": [
    {
     "name": "stdout",
     "output_type": "stream",
     "text": [
      "Hello World!\n",
      "سلام جهان\n"
     ]
    }
   ],
   "source": [
    "print('Hello World!')\n",
    "print('سلام جهان')"
   ]
  },
  {
   "cell_type": "code",
   "execution_count": 3,
   "metadata": {},
   "outputs": [
    {
     "name": "stdout",
     "output_type": "stream",
     "text": [
      "4\n"
     ]
    }
   ],
   "source": [
    "#2.1\n",
    "import random\n",
    "n = random.randint(1,6)\n",
    "print(n)"
   ]
  },
  {
   "cell_type": "code",
   "execution_count": 4,
   "metadata": {},
   "outputs": [
    {
     "name": "stdout",
     "output_type": "stream",
     "text": [
      "1st number: 18\n",
      "2nd number: 96\n",
      "6\n"
     ]
    }
   ],
   "source": [
    "#2.2\n",
    "a = int(input('1st number: ')) #if we dont define them as int, there will be an error. why?!\n",
    "b = int(input('2nd number: '))\n",
    "x = max(a,b)\n",
    "y = min(a,b)\n",
    "\n",
    "def mygcd(i,j):\n",
    "    if j==0:\n",
    "        return i\n",
    "    else:\n",
    "        return mygcd(j,i%j)\n",
    "    \n",
    "print(mygcd(x,y))"
   ]
  },
  {
   "cell_type": "code",
   "execution_count": 20,
   "metadata": {},
   "outputs": [
    {
     "name": "stdout",
     "output_type": "stream",
     "text": [
      "Enter the number of seconds: 1000000000\n",
      "Date & Time: 2001-09-09 1:46:40\n"
     ]
    }
   ],
   "source": [
    "#2.3\n",
    "from datetime import date \n",
    "import math\n",
    "from datetime import timedelta \n",
    "t = int(input('Enter the number of seconds: '))\n",
    "D=math.floor(t/86400)\n",
    "t=t%86400\n",
    "H=math.floor(t/3600)\n",
    "t=t%3600\n",
    "M=math.floor(t/60)\n",
    "t=t%60\n",
    "S=t\n",
    "P=date(1970, 1, 1)\n",
    "P=P+timedelta(days=D)\n",
    "print('Date & Time: '+P.strftime(\"%Y-%m-%d\")+' '+str(H)+':'+str(M)+':'+str(S))"
   ]
  },
  {
   "cell_type": "code",
   "execution_count": 21,
   "metadata": {},
   "outputs": [
    {
     "name": "stdout",
     "output_type": "stream",
     "text": [
      "1st string: abcdefg\n",
      "2nd string: abefg\n",
      "2\n"
     ]
    }
   ],
   "source": [
    "#2.4.a\n",
    "def LD(a, b):\n",
    "    if a == \"\":\n",
    "        return len(b)\n",
    "    if b == \"\":\n",
    "        return len(a)\n",
    "    if a[0] == b[0]:\n",
    "        cost = 0\n",
    "    else:\n",
    "        cost = 1\n",
    "       \n",
    "    res = min([LD(a[1:], b)+1,\n",
    "               LD(a, b[1:])+1, \n",
    "               LD(a[1:], b[1:]) + cost])\n",
    "\n",
    "    return res\n",
    "\n",
    "a = str(input('1st string: '))\n",
    "b = str(input('2nd string: '))\n",
    "\n",
    "print(LD(a, b))"
   ]
  },
  {
   "cell_type": "code",
   "execution_count": 22,
   "metadata": {},
   "outputs": [
    {
     "name": "stdout",
     "output_type": "stream",
     "text": [
      "Enter an integer:21322\n",
      "21322 10661 31984 15992 7996 3998 1999 5998 2999 8998 4499 13498 6749 20248 10124 5062 2531 7594 3797 11392 5696 2848 1424 712 356 178 89 268 134 67 202 101 304 152 76 38 19 58 29 88 44 22 11 34 17 52 26 13 40 20 10 5 16 8 4 2 1 \n",
      "the length of the conjucture: 57\n"
     ]
    }
   ],
   "source": [
    "#2.4.b\n",
    "def collatz1(n):\n",
    "    count = 1\n",
    "    print(n,end=' ')\n",
    "    while 1:\n",
    "        count+=1\n",
    "        if n%2:    #odd\n",
    "            n = 3*n + 1\n",
    "        else:      #even\n",
    "            n = int(n/2)\n",
    "        print(n,end=' ')\n",
    "        if(n==1):\n",
    "            break\n",
    "    print('\\nthe length of the sequence:', count)\n",
    "\n",
    "n = int(input('Enter an integer:'))\n",
    "collatz1(n)\n"
   ]
  },
  {
   "cell_type": "code",
   "execution_count": 23,
   "metadata": {},
   "outputs": [
    {
     "name": "stdout",
     "output_type": "stream",
     "text": [
      "871 has the largest sequence\n",
      "871 2614 1307 3922 1961 5884 2942 1471 4414 2207 6622 3311 9934 4967 14902 7451 22354 11177 33532 16766 8383 25150 12575 37726 18863 56590 28295 84886 42443 127330 63665 190996 95498 47749 143248 71624 35812 17906 8953 26860 13430 6715 20146 10073 30220 15110 7555 22666 11333 34000 17000 8500 4250 2125 6376 3188 1594 797 2392 1196 598 299 898 449 1348 674 337 1012 506 253 760 380 190 95 286 143 430 215 646 323 970 485 1456 728 364 182 91 274 137 412 206 103 310 155 466 233 700 350 175 526 263 790 395 1186 593 1780 890 445 1336 668 334 167 502 251 754 377 1132 566 283 850 425 1276 638 319 958 479 1438 719 2158 1079 3238 1619 4858 2429 7288 3644 1822 911 2734 1367 4102 2051 6154 3077 9232 4616 2308 1154 577 1732 866 433 1300 650 325 976 488 244 122 61 184 92 46 23 70 35 106 53 160 80 40 20 10 5 16 8 4 2 1 \n",
      "the length of the sequence: 179\n"
     ]
    }
   ],
   "source": [
    "#2.5\n",
    "def collatz1(n):\n",
    "    count = 1\n",
    "    print(n,end=' ')\n",
    "    while 1:\n",
    "        count+=1\n",
    "        if n%2:    #odd\n",
    "            n = 3*n + 1\n",
    "        else:      #even\n",
    "            n = int(n/2)\n",
    "        print(n,end=' ')\n",
    "        if(n==1):\n",
    "            break\n",
    "    print('\\nthe length of the sequence:', count)\n",
    "\n",
    "def collatz2(n):\n",
    "    count = 1\n",
    "    while 1:\n",
    "        count+=1\n",
    "        if n%2:    #odd\n",
    "            n = 3*n + 1\n",
    "        else:      #even\n",
    "            n = int(n/2)\n",
    "        if(n==1):\n",
    "            break\n",
    "    return count\n",
    "\n",
    "a = []\n",
    "for i in range(1,1000):\n",
    "    a.append(collatz2(i))\n",
    "\n",
    "m = a.index(max(a))\n",
    "print(m+1, 'has the largest sequence')\n",
    "collatz1(m+1)\n"
   ]
  },
  {
   "cell_type": "code",
   "execution_count": 28,
   "metadata": {},
   "outputs": [
    {
     "name": "stdout",
     "output_type": "stream",
     "text": [
      "[96101816, 'Hadi']\n",
      "[96101816, 'Hadi', [96102201, 'mojtaba'], [96101849, 'Shoara']]\n",
      "mojtaba\n",
      "[96101816, 'Hadi', [96102201, 'mojtaba'], [96101849, 'Shoara'], 96102201, 'mojtaba', 96101849, 'Shoara']\n"
     ]
    }
   ],
   "source": [
    "#3.1\n",
    "list1 = []\n",
    "list1.append(96101816)\n",
    "list1.append('Hadi')\n",
    "print(list1)\n",
    "\n",
    "list2 = []\n",
    "list2.append(96102201)\n",
    "list2.append('mojtaba')\n",
    "\n",
    "list3 = []\n",
    "list3.append(96101849)\n",
    "list3.append('Shoara')\n",
    "\n",
    "list1.append(list2)\n",
    "list1.append(list3)\n",
    "print(list1)\n",
    "print(list1[2][1])\n",
    "\n",
    "#now lets use extend\n",
    "list1.extend(list2)\n",
    "list1.extend(list3)\n",
    "print(list1)"
   ]
  },
  {
   "cell_type": "code",
   "execution_count": 27,
   "metadata": {},
   "outputs": [
    {
     "name": "stdout",
     "output_type": "stream",
     "text": [
      "<class 'tuple'>\n",
      "<class 'str'>\n",
      "<class 'tuple'>\n",
      "((1, 1), 2, 3)\n"
     ]
    }
   ],
   "source": [
    "#3.2\n",
    "#tuple is ordered, but unchangeable; no add, no remove\n",
    "a = (\"apple\",) #comma needed for single element tuple\n",
    "print(type(a))\n",
    "\n",
    "#NOT a tuple\n",
    "a = (\"apple\")\n",
    "print(type(a))\n",
    "\n",
    "#can define a tuple by declaring it's type as tuple\n",
    "a = tuple((\"apple\"))\n",
    "print(type(a))\n",
    "\n",
    "#duplicate members\n",
    "a = ((1,1),2,3)       \n",
    "print(a)"
   ]
  },
  {
   "cell_type": "code",
   "execution_count": 30,
   "metadata": {},
   "outputs": [
    {
     "name": "stdout",
     "output_type": "stream",
     "text": [
      "(array([0, 0, 2], dtype=int64), array([0, 4, 2], dtype=int64))\n",
      "(0, 2) is the centre of mass and has the distance of: 6\n"
     ]
    }
   ],
   "source": [
    "#3.3\n",
    "import numpy\n",
    "a = [[1,0,0,0,1],\n",
    "     [0,0,0,0,0],\n",
    "     [0,0,1,0,0]]\n",
    "b = numpy.nonzero(a)\n",
    "for i in range(len(b)):\n",
    "    map(list,b[i])\n",
    "\n",
    "d = []\n",
    "for i in range(len(a)):\n",
    "    for j in range(len(a[0])):\n",
    "        d.append( sum(abs(b[0][:] - i)) + sum(abs(b[1][:] - j)) )\n",
    "\n",
    "distance = min(d)\n",
    "index = d.index(distance)\n",
    "row = index//5\n",
    "column = index-(5*row)\n",
    "print(str((row,column)) +' is the centre of mass and has the distance of: ' + str(distance))"
   ]
  },
  {
   "cell_type": "code",
   "execution_count": 31,
   "metadata": {},
   "outputs": [
    {
     "name": "stdout",
     "output_type": "stream",
     "text": [
      "{'Roman': '27BC-1453AD', 'Egypt': '3150BC-30BC', 'Greek': '800BC-600AD', 'Chinese': '221BC-1912AD', 'Islamic': '750AD-1257AD', 'Mayan': '2000BC-1540AD', 'Persian': '550BC-651AD', 'Mongol': '1206AD-1368AD'}\n",
      "27BC-1453AD\n"
     ]
    }
   ],
   "source": [
    "#3.4\n",
    "nation = ['Roman', 'Egypt', 'Greek', 'Chinese', 'Islamic', 'Mayan', 'Persian', 'Mongol']\n",
    "golden_age = ['27BC-1453AD','3150BC-30BC','800BC-600AD','221BC-1912AD',\n",
    "              '750AD-1257AD','2000BC-1540AD','550BC-651AD','1206AD-1368AD']\n",
    "x = zip(nation, golden_age)\n",
    "y = dict(x)\n",
    "print(y)\n",
    "print(y['Roman'])"
   ]
  },
  {
   "cell_type": "code",
   "execution_count": 41,
   "metadata": {},
   "outputs": [
    {
     "name": "stdout",
     "output_type": "stream",
     "text": [
      "[1, 2, 4, 8, 16, 32, 64, 128, 256, 512, 1024, 2048, 4096, 8192, 16384, 32768, 65536]\n",
      "[1, 4, 9, 16]\n",
      "[16, 65536]\n",
      "[[ 0  1  4]\n",
      " [ 9 16 25]\n",
      " [36 49 64]]\n"
     ]
    }
   ],
   "source": [
    "#3.5\n",
    "import numpy as np\n",
    "a = [2**i for i in range(17)]\n",
    "print(a)\n",
    "\n",
    "b = [x*x for x in range(1,5)]\n",
    "print(b)\n",
    "\n",
    "c = [a[x] for x in b if x%2==0]\n",
    "print(c)\n",
    "\n",
    "#3.6\n",
    "d = np.array([[(3*i+j)*(3*i+j) for j in range(3)] for i in range(3)])\n",
    "print(d)"
   ]
  }
 ],
 "metadata": {
  "kernelspec": {
   "display_name": "Python 3",
   "language": "python",
   "name": "python3"
  },
  "language_info": {
   "codemirror_mode": {
    "name": "ipython",
    "version": 3
   },
   "file_extension": ".py",
   "mimetype": "text/x-python",
   "name": "python",
   "nbconvert_exporter": "python",
   "pygments_lexer": "ipython3",
   "version": "3.8.3"
  }
 },
 "nbformat": 4,
 "nbformat_minor": 4
}
